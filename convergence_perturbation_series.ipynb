{
 "cells": [
  {
   "cell_type": "code",
   "execution_count": 8,
   "metadata": {},
   "outputs": [],
   "source": [
    "import numpy as np\n",
    "import sympy as sp\n",
    "from sympy.parsing.latex import parse_latex\n",
    "from matplotlib import pyplot as plt"
   ]
  },
  {
   "cell_type": "markdown",
   "metadata": {},
   "source": [
    "# The Hubbard-Dimer\n",
    "In the Hubbard Model there are different geometric sites (two for the Hubbard dimer). Electrons at the same site interact with the coulomb interaction being $U$. Electrons at different sites have no coulomb interaction (?) but there is some hopping term. The Hubbard dimer has four different basis functions (states that can be measured), where the electrons are at the same site or at different sites\n",
    "\\begin{align}\n",
    "|L^\\uparrow L^\\downarrow\\rangle \\\\\n",
    "|L^\\uparrow R^\\downarrow\\rangle \\\\\n",
    "|L^\\downarrow R^\\uparrow \\rangle \\\\\n",
    "|R^\\uparrow R^\\downarrow\\rangle.\n",
    "\\end{align}\n",
    "This leads to the following Hamiltonian\n",
    "\\begin{equation}\n",
    "H(\\lambda) = \\left(\\begin{matrix}\n",
    "U & -\\lambda t & -\\lambda t & 0 \\\\\n",
    "-\\lambda t & 0 & 0 & -\\lambda t \\\\\n",
    "-\\lambda t & 0 & 0 & -\\lambda t \\\\\n",
    "0 & -\\lambda t & -\\lambda t & U \\\\\n",
    "\\end{matrix}\\right),\n",
    "\\end{equation}\n",
    "where the coupling parameter can be scaled by $\\lambda$."
   ]
  },
  {
   "cell_type": "code",
   "execution_count": 14,
   "metadata": {},
   "outputs": [],
   "source": [
    "U, t, l = sp.symbols('U, t, lambda')\n",
    "H = sp.Matrix([[U, -l*t, -l*t, 0], [-l*t,0,0,-l*t], [-l*t,0,0,-l*t], [0, -l*t, -l*t, U]])"
   ]
  },
  {
   "cell_type": "code",
   "execution_count": 15,
   "metadata": {},
   "outputs": [
    {
     "data": {
      "text/latex": [
       "$\\displaystyle \\left[\\begin{matrix}U & - \\lambda t & - \\lambda t & 0\\\\- \\lambda t & 0 & 0 & - \\lambda t\\\\- \\lambda t & 0 & 0 & - \\lambda t\\\\0 & - \\lambda t & - \\lambda t & U\\end{matrix}\\right]$"
      ],
      "text/plain": [
       "Matrix([\n",
       "[        U, -lambda*t, -lambda*t,         0],\n",
       "[-lambda*t,         0,         0, -lambda*t],\n",
       "[-lambda*t,         0,         0, -lambda*t],\n",
       "[        0, -lambda*t, -lambda*t,         U]])"
      ]
     },
     "execution_count": 15,
     "metadata": {},
     "output_type": "execute_result"
    }
   ],
   "source": [
    "H"
   ]
  },
  {
   "cell_type": "markdown",
   "metadata": {},
   "source": [
    "This yields following energy values for the different states"
   ]
  },
  {
   "cell_type": "code",
   "execution_count": 18,
   "metadata": {},
   "outputs": [
    {
     "data": {
      "text/plain": [
       "{U: 1,\n",
       " U/2 - sqrt(U**2 + 16*lambda**2*t**2)/2: 1,\n",
       " U/2 + sqrt(U**2 + 16*lambda**2*t**2)/2: 1,\n",
       " 0: 1}"
      ]
     },
     "execution_count": 18,
     "metadata": {},
     "output_type": "execute_result"
    }
   ],
   "source": [
    "H.eigenvals()"
   ]
  },
  {
   "cell_type": "markdown",
   "metadata": {},
   "source": [
    "If $\\lambda$ is real there is an avoided crossing between singlet state and double excited state but for complex values of $\\lambda$ there is a degeneracy for $\\lambda = \\pm i \\frac{U}{4t}$. These points where the states are degenerate are called exceptional points (EP). The energy as a function of $\\lambda$ is not analytic at the EP's, meaning that the function cannot be expressed as at Taylor-series for every point in some radius around the EP."
   ]
  },
  {
   "cell_type": "markdown",
   "metadata": {},
   "source": [
    "# Convergence of a Taylor-Series\n",
    "The radius of convergence of a Taylor series of some function $f$ around some point $z_0$ is the largest circle around $z_0$ for which $f$ is not singular. In alchemy\n",
    "\\begin{equation}\n",
    "E(\\lambda) = \\langle \\Psi_\\lambda | \\lambda H_t + (1-\\lambda) H_r | \\Psi_\\lambda \\rangle.\n",
    "\\end{equation}\n",
    "Is there a singularity for $|\\lambda| \\leq 1$? For the Hubbard model, a reason for singularites are degeneracies between different states. Could this also be an issue for alchemy? E.g. if two states in $H_r$ and $H_t$ are degenerate for $\\lambda \\leq 1$, does this mean that the series does not converge?"
   ]
  }
 ],
 "metadata": {
  "kernelspec": {
   "display_name": "Python [conda env:atomic-energies]",
   "language": "python",
   "name": "conda-env-atomic-energies-py"
  },
  "language_info": {
   "codemirror_mode": {
    "name": "ipython",
    "version": 3
   },
   "file_extension": ".py",
   "mimetype": "text/x-python",
   "name": "python",
   "nbconvert_exporter": "python",
   "pygments_lexer": "ipython3",
   "version": "3.7.3"
  }
 },
 "nbformat": 4,
 "nbformat_minor": 4
}
